{
 "cells": [
  {
   "cell_type": "code",
   "execution_count": 1,
   "metadata": {
    "collapsed": false
   },
   "outputs": [],
   "source": [
    "import pandas as pd\n",
    "from data_handlers import *\n",
    "from numpy_neural_network import *"
   ]
  },
  {
   "cell_type": "code",
   "execution_count": 2,
   "metadata": {
    "collapsed": true
   },
   "outputs": [],
   "source": [
    "#loading dataset from csv file\n",
    "dataset = pd.read_csv('mushrooms.csv')"
   ]
  },
  {
   "cell_type": "code",
   "execution_count": 3,
   "metadata": {
    "collapsed": true
   },
   "outputs": [],
   "source": [
    "#encoding the dataset\n",
    "encoded_set = prepare_dataset(dataset)"
   ]
  },
  {
   "cell_type": "code",
   "execution_count": 4,
   "metadata": {
    "collapsed": true
   },
   "outputs": [],
   "source": [
    "#splitting the dataset into features and labels\n",
    "X, y = labels_vs_features(encoded_set)"
   ]
  },
  {
   "cell_type": "code",
   "execution_count": 5,
   "metadata": {
    "collapsed": false
   },
   "outputs": [
    {
     "name": "stdout",
     "output_type": "stream",
     "text": [
      "X_train size --> (6499, 22)\n",
      "y_train size --> (6499,)\n",
      "X_test size --> (1625, 22)\n",
      "y_test size --> (1625,)\n"
     ]
    }
   ],
   "source": [
    "#splitting those features and labels into training and testing parts \n",
    "X_train, X_test, y_train, y_test = data_splitter(X, y)"
   ]
  },
  {
   "cell_type": "code",
   "execution_count": 6,
   "metadata": {
    "collapsed": true
   },
   "outputs": [],
   "source": [
    "#defining the neural network\n",
    "neural_network = NeuralNetwork(epochs=40000)"
   ]
  },
  {
   "cell_type": "markdown",
   "metadata": {},
   "source": [
    "#### Time for training"
   ]
  },
  {
   "cell_type": "code",
   "execution_count": 7,
   "metadata": {
    "collapsed": false
   },
   "outputs": [
    {
     "name": "stdout",
     "output_type": "stream",
     "text": [
      "0.470944561879\n",
      "0.0296582083285\n",
      "0.0232638368305\n",
      "0.0267253719341\n",
      "0.0212038555906\n",
      "0.00313700320734\n",
      "0.00482028642712\n",
      "0.00145590295701\n",
      "0.00121075501726\n",
      "0.00232644110926\n",
      "0.000948734029421\n",
      "0.00070813047636\n",
      "0.00172479890113\n",
      "0.000353702725526\n",
      "0.000337215058879\n",
      "0.00135807025884\n",
      "0.000261236146991\n",
      "0.00044430563954\n",
      "0.000150616187561\n",
      "0.00114448612381\n",
      "0.000901550848699\n",
      "0.000103037294441\n",
      "0.000257797511626\n",
      "0.000260865474122\n",
      "0.00042569583066\n",
      "9.14312728864e-05\n",
      "0.000135139332529\n",
      "0.000182817932037\n",
      "0.000132701919142\n",
      "7.51882511676e-05\n",
      "0.000350919808252\n",
      "0.000212092462648\n",
      "0.00130961940476\n",
      "0.000302191519775\n",
      "0.000177725836708\n",
      "0.000251246857455\n",
      "0.000220311637232\n",
      "0.00026078377615\n",
      "0.000178322353117\n",
      "9.77762972504e-05\n"
     ]
    }
   ],
   "source": [
    "neural_network.train(X_train, y_train)"
   ]
  },
  {
   "cell_type": "code",
   "execution_count": 8,
   "metadata": {
    "collapsed": true
   },
   "outputs": [],
   "source": [
    "#Using trained network to predict classes for the testing set\n",
    "predicted = neural_network.predict(X_test)"
   ]
  },
  {
   "cell_type": "code",
   "execution_count": 9,
   "metadata": {
    "collapsed": false
   },
   "outputs": [
    {
     "name": "stdout",
     "output_type": "stream",
     "text": [
      "100.0 %\n"
     ]
    }
   ],
   "source": [
    "#testing the accuracy of our neural network\n",
    "neural_network.accuracy(predicted, y_test)"
   ]
  }
 ],
 "metadata": {
  "kernelspec": {
   "display_name": "Python 3",
   "language": "python",
   "name": "python3"
  },
  "language_info": {
   "codemirror_mode": {
    "name": "ipython",
    "version": 3
   },
   "file_extension": ".py",
   "mimetype": "text/x-python",
   "name": "python",
   "nbconvert_exporter": "python",
   "pygments_lexer": "ipython3",
   "version": "3.5.3"
  }
 },
 "nbformat": 4,
 "nbformat_minor": 0
}
