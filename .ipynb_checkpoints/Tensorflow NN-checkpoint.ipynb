{
 "cells": [
  {
   "cell_type": "code",
   "execution_count": 14,
   "metadata": {
    "collapsed": false
   },
   "outputs": [],
   "source": [
    "#importing dependencies\n",
    "import pandas as pd\n",
    "from data_handlers import *\n",
    "import tensorflow as tf"
   ]
  },
  {
   "cell_type": "code",
   "execution_count": 15,
   "metadata": {
    "collapsed": false
   },
   "outputs": [],
   "source": [
    "#loading a dataset\n",
    "dataset = pd.read_csv('mushrooms.csv')"
   ]
  },
  {
   "cell_type": "code",
   "execution_count": 16,
   "metadata": {
    "collapsed": true
   },
   "outputs": [],
   "source": [
    "#encoding the dataset by changing its string values to numerical values by using a function from data_handlers.py\n",
    "encoded_data = prepare_dataset(dataset)"
   ]
  },
  {
   "cell_type": "code",
   "execution_count": 17,
   "metadata": {
    "collapsed": true
   },
   "outputs": [],
   "source": [
    "#splitting the dataset to labels and features, using a function from data_handlers.py\n",
    "X, y =  labels_vs_features(encoded_data)"
   ]
  },
  {
   "cell_type": "code",
   "execution_count": 18,
   "metadata": {
    "collapsed": false
   },
   "outputs": [
    {
     "name": "stdout",
     "output_type": "stream",
     "text": [
      "X_train size --> (6499, 22)\n",
      "y_train size --> (6499,)\n",
      "X_test size --> (1625, 22)\n",
      "y_test size --> (1625,)\n"
     ]
    }
   ],
   "source": [
    "#splitting the dataset to the training set and the testing set\n",
    "X_train, X_test, y_train, y_test =  data_splitter(X, y)"
   ]
  },
  {
   "cell_type": "markdown",
   "metadata": {
    "collapsed": true
   },
   "source": [
    "### Defining Tensorflow NN"
   ]
  },
  {
   "cell_type": "code",
   "execution_count": 19,
   "metadata": {
    "collapsed": true
   },
   "outputs": [],
   "source": [
    "#Tensorflow placeholders - inputs to the TF graph\n",
    "inputs =  tf.placeholder(tf.float32, [None, 22], name='Inputs')\n",
    "targets =  tf.placeholder(tf.float32, [None, 1], name='Targets')"
   ]
  },
  {
   "cell_type": "code",
   "execution_count": 20,
   "metadata": {
    "collapsed": true
   },
   "outputs": [],
   "source": [
    "#Helper functions to define weights and biases\n",
    "\n",
    "def init_weights(shape):\n",
    "    '''\n",
    "    Input: shape -  this is the shape of a matrix used to represent weigts for the arbitrary layer\n",
    "    Output: wights randomly generated with size = shape\n",
    "    '''\n",
    "    return tf.Variable(tf.truncated_normal(shape, 0.05, 0.05))\n",
    "\n",
    "def init_biases(shape):\n",
    "    '''\n",
    "    Input: shape -  this is the shape of a vector used to represent biases for the arbitrary layer\n",
    "    Output: a vector for biases (all zeros) lenght = shape\n",
    "    '''\n",
    "    return tf.Variable(tf.zeros(shape))"
   ]
  },
  {
   "cell_type": "code",
   "execution_count": 21,
   "metadata": {
    "collapsed": true
   },
   "outputs": [],
   "source": [
    "def fully_connected_layer(inputs, input_shape, output_shape, activation=tf.nn.sigmoid):\n",
    "    '''\n",
    "    This function is used to create tensorflow fully connected layer.\n",
    "    \n",
    "    Inputs: inputs - input data to the layer\n",
    "            input_shape - shape of the inputs features (number of nodes from the previous layer)\n",
    "            output_shape - shape of the layer\n",
    "            activatin - used as an activation function for the layer (non-liniarity)\n",
    "    Output: layer - tensorflow fully connected layer\n",
    "    \n",
    "    '''\n",
    "    #definine weights and biases\n",
    "    weights = init_weights([input_shape, output_shape])\n",
    "    biases = init_biases([output_shape])\n",
    "    \n",
    "    #x*W + b <- computation for the layer values\n",
    "    layer = tf.matmul(inputs, weights) + biases\n",
    "    \n",
    "    #if activation argument is not None, we put layer values through an activation function\n",
    "    if activation != None:\n",
    "        layer = activation(layer)\n",
    "        \n",
    "    return layer"
   ]
  },
  {
   "cell_type": "code",
   "execution_count": 22,
   "metadata": {
    "collapsed": false
   },
   "outputs": [],
   "source": [
    "#defining the network\n",
    "l1 = fully_connected_layer(inputs, 22, 50)\n",
    "l2 = fully_connected_layer(l1, 50, 25)\n",
    "l3 = fully_connected_layer(l2, 25, 1, activation=None)"
   ]
  },
  {
   "cell_type": "code",
   "execution_count": 23,
   "metadata": {
    "collapsed": true
   },
   "outputs": [],
   "source": [
    "#defining special parameter for our predictions - later used for testing\n",
    "predictions = tf.nn.sigmoid(l3)"
   ]
  },
  {
   "cell_type": "code",
   "execution_count": 24,
   "metadata": {
    "collapsed": false
   },
   "outputs": [],
   "source": [
    "#Mean_squared_error function and optimizer choice - Classical Gradient Descent\n",
    "cost = loss2 = tf.reduce_mean(tf.squared_difference(targets, predictions))\n",
    "learning_rate = 0.01\n",
    "optimizer = tf.train.GradientDescentOptimizer(learning_rate).minimize(cost)"
   ]
  },
  {
   "cell_type": "code",
   "execution_count": 25,
   "metadata": {
    "collapsed": true
   },
   "outputs": [],
   "source": [
    "epochs = 100000\n",
    "batch_size = 50\n",
    "from tqdm import tqdm"
   ]
  },
  {
   "cell_type": "code",
   "execution_count": 26,
   "metadata": {
    "collapsed": false
   },
   "outputs": [
    {
     "name": "stderr",
     "output_type": "stream",
     "text": [
      "  0%|                                                                                       | 0/100000 [00:00<?, ?it/s]"
     ]
    },
    {
     "name": "stdout",
     "output_type": "stream",
     "text": [
      "0.375959\n",
      "0.375959\n"
     ]
    },
    {
     "name": "stderr",
     "output_type": "stream",
     "text": [
      " 10%|███████▍                                                                   | 9976/100000 [00:12<01:48, 830.97it/s]"
     ]
    },
    {
     "name": "stdout",
     "output_type": "stream",
     "text": [
      "0.249297\n",
      "0.249297\n"
     ]
    },
    {
     "name": "stderr",
     "output_type": "stream",
     "text": [
      " 20%|██████████████▊                                                           | 19989/100000 [00:23<01:25, 933.72it/s]"
     ]
    },
    {
     "name": "stdout",
     "output_type": "stream",
     "text": [
      "0.250848\n",
      "0.250848\n"
     ]
    },
    {
     "name": "stderr",
     "output_type": "stream",
     "text": [
      " 30%|██████████████████████▏                                                   | 29959/100000 [00:35<01:26, 805.93it/s]"
     ]
    },
    {
     "name": "stdout",
     "output_type": "stream",
     "text": [
      "0.250485\n",
      "0.250485\n"
     ]
    },
    {
     "name": "stderr",
     "output_type": "stream",
     "text": [
      " 40%|█████████████████████████████▌                                            | 39950/100000 [00:47<01:06, 901.68it/s]"
     ]
    },
    {
     "name": "stdout",
     "output_type": "stream",
     "text": [
      "0.247482\n",
      "0.247482\n"
     ]
    },
    {
     "name": "stderr",
     "output_type": "stream",
     "text": [
      " 50%|████████████████████████████████████▉                                     | 49994/100000 [00:59<00:58, 860.87it/s]"
     ]
    },
    {
     "name": "stdout",
     "output_type": "stream",
     "text": [
      "0.236634\n",
      "0.236634\n"
     ]
    },
    {
     "name": "stderr",
     "output_type": "stream",
     "text": [
      " 60%|████████████████████████████████████████████▎                             | 59956/100000 [01:12<00:46, 855.83it/s]"
     ]
    },
    {
     "name": "stdout",
     "output_type": "stream",
     "text": [
      "0.135884\n",
      "0.135884\n"
     ]
    },
    {
     "name": "stderr",
     "output_type": "stream",
     "text": [
      " 70%|███████████████████████████████████████████████████▊                      | 69988/100000 [01:23<00:33, 905.39it/s]"
     ]
    },
    {
     "name": "stdout",
     "output_type": "stream",
     "text": [
      "0.0690009\n",
      "0.0690009\n"
     ]
    },
    {
     "name": "stderr",
     "output_type": "stream",
     "text": [
      " 80%|███████████████████████████████████████████████████████████▏              | 79984/100000 [01:35<00:25, 787.43it/s]"
     ]
    },
    {
     "name": "stdout",
     "output_type": "stream",
     "text": [
      "0.077396\n",
      "0.077396\n"
     ]
    },
    {
     "name": "stderr",
     "output_type": "stream",
     "text": [
      " 90%|██████████████████████████████████████████████████████████████████▌       | 89982/100000 [01:46<00:11, 908.89it/s]"
     ]
    },
    {
     "name": "stdout",
     "output_type": "stream",
     "text": [
      "0.0683184\n",
      "0.0683184\n"
     ]
    },
    {
     "name": "stderr",
     "output_type": "stream",
     "text": [
      "100%|█████████████████████████████████████████████████████████████████████████| 100000/100000 [01:58<00:00, 843.91it/s]\n",
      "100%|█████████████████████████████████████████████████████████████████████████| 100000/100000 [01:58<00:00, 843.91it/s]\n"
     ]
    },
    {
     "name": "stdout",
     "output_type": "stream",
     "text": [
      "Accuracy:  1.0\n",
      "Accuracy:  1.0\n"
     ]
    }
   ],
   "source": [
    "#Starting session for the graph\n",
    "with tf.Session() as sess:\n",
    "    \n",
    "    sess.run(tf.global_variables_initializer())\n",
    "    #TRAINING PORTION OF THE SESSION\n",
    "    for i in tqdm(range(epochs)):\n",
    "        idx = np.random.choice(len(X_train), batch_size, replace=True)\n",
    "        X_batch = X_train[idx, :]\n",
    "        y_batch = y_train[idx]\n",
    "        y_batch = np.reshape(y_batch, (len(y_batch), 1))\n",
    "        \n",
    "        batch_loss, opt = sess.run([cost, optimizer], feed_dict={inputs:X_batch, targets:y_batch})\n",
    "        \n",
    "        if i % 10000 == 0:\n",
    "            print(batch_loss)\n",
    "    \n",
    "    #TESTING PORTION OF THE SESSION\n",
    "    preds = sess.run([predictions], feed_dict={inputs:X_test})\n",
    "    true_preds = []\n",
    "    for i in range(len(preds)):\n",
    "        if preds[0][i] >= 0.5:\n",
    "            true_preds.append(1)\n",
    "        else:\n",
    "            true_preds.append(0)\n",
    "    \n",
    "    true_correct = 0\n",
    "    for i in range(len(preds)):\n",
    "        if true_preds[i] == y_test[i]:\n",
    "            true_correct += 1\n",
    "    \n",
    "    print(\"Accuracy: \", true_correct/len(true_preds))\n",
    "        \n",
    "    "
   ]
  }
 ],
 "metadata": {
  "kernelspec": {
   "display_name": "Python 3",
   "language": "python",
   "name": "python3"
  },
  "language_info": {
   "codemirror_mode": {
    "name": "ipython",
    "version": 3
   },
   "file_extension": ".py",
   "mimetype": "text/x-python",
   "name": "python",
   "nbconvert_exporter": "python",
   "pygments_lexer": "ipython3",
   "version": "3.5.3"
  }
 },
 "nbformat": 4,
 "nbformat_minor": 0
}
